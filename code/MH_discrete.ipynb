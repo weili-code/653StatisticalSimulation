{
 "cells": [
  {
   "cell_type": "markdown",
   "metadata": {},
   "source": [
    "## MAT 653 \n",
    "#### Wei Li\n",
    "\n",
    "### Discrete space Metropolis' algorithm\n",
    "\n",
    "\n",
    "Toy Example: Sampling from a Simple Distribution\n",
    "Let's say we want to sample from a distribution $\\pi$ over three states $A, B, C$ with probabilities $\\pi_A=0.4, \\pi_B=0.2$, and $\\pi_C=0.4$. We will start with an arbitrary initial transition matrix $P$ :\n",
    "$$\n",
    "P=\\left(\\begin{array}{lll}\n",
    "0.5 & 0.3 & 0.2 \\\\\n",
    "0.2 & 0.6 & 0.2 \\\\\n",
    "0.1 & 0.2 & 0.7\n",
    "\\end{array}\\right)\n",
    "$$\n",
    "\n",
    "Here, $P_{i j}$ represents the probability of transitioning from state $i$ to state $j$.\n",
    "\n",
    "The modified transition matrix $\\tilde{P}$ is:\n",
    "$$\n",
    "\\tilde{P}=\\left(\\begin{array}{lll}\n",
    "0.8 & 0.1 & 0.1 \\\\\n",
    "0.2 & 0.6 & 0.2 \\\\\n",
    "0.1 & 0.1 & 0.8\n",
    "\\end{array}\\right)\n",
    "$$\n",
    "\n",
    "This new transition matrix $\\tilde{P}$ will have $\\pi$ as its stationary distribution."
   ]
  },
  {
   "cell_type": "code",
   "execution_count": 3,
   "metadata": {},
   "outputs": [
    {
     "data": {
      "text/plain": [
       "array([[0.8, 0.1, 0.1],\n",
       "       [0.2, 0.6, 0.2],\n",
       "       [0.1, 0.1, 0.8]])"
      ]
     },
     "execution_count": 3,
     "metadata": {},
     "output_type": "execute_result"
    }
   ],
   "source": [
    "import numpy as np\n",
    "\n",
    "# Given stationary distribution pi and initial transition matrix P\n",
    "pi = np.array([0.4, 0.2, 0.4])  # for states A, B, C\n",
    "P = np.array([\n",
    "    [0.5, 0.3, 0.2],  # from state A\n",
    "    [0.2, 0.6, 0.2],  # from state B\n",
    "    [0.1, 0.2, 0.7]   # from state C\n",
    "])\n",
    "\n",
    "# Step 1: Compute acceptance probabilities alpha\n",
    "alpha = np.zeros((3, 3))\n",
    "for i in range(3):\n",
    "    for j in range(3):\n",
    "        if i != j:\n",
    "            alpha[i, j] = min((pi[j] * P[j, i]) / (pi[i] * P[i, j]), 1)\n",
    "\n",
    "# Step 2: Modify transition probabilities to get P_tilde\n",
    "P_tilde = np.zeros((3, 3))\n",
    "for i in range(3):\n",
    "    for j in range(3):\n",
    "        if i != j:\n",
    "            P_tilde[i, j] = alpha[i, j] * P[i, j]\n",
    "    P_tilde[i, i] = 1 - np.sum(P_tilde[i, :])\n",
    "\n",
    "P_tilde"
   ]
  },
  {
   "cell_type": "code",
   "execution_count": 6,
   "metadata": {},
   "outputs": [],
   "source": [
    "import matplotlib.pyplot as plt\n",
    "\n",
    "def simulate_markov_chain(P, initial_state, n_steps):\n",
    "    \"\"\"\n",
    "    Simulate a Markov Chain with given transition matrix and initial state.\n",
    "    \n",
    "    Args:\n",
    "        P : numpy.ndarray\n",
    "            The transition matrix. P[i, j] is the probability of transitioning\n",
    "            from state i to state j.\n",
    "            \n",
    "        initial_state : int\n",
    "            The initial state of the Markov Chain. Should be an index corresponding\n",
    "            to a row in the transition matrix P.\n",
    "            \n",
    "        n_steps : int\n",
    "            The number of steps to simulate the Markov Chain for.\n",
    "        \n",
    "    Returns:\n",
    "        empirical_probs : dict\n",
    "            A dictionary where the keys are the states (represented as integers)\n",
    "            and the values are the empirical probabilities of these states based\n",
    "            on the simulation.\n",
    "    \"\"\"\n",
    "    \n",
    "    # Initialize the current state to the initial_state\n",
    "    state = initial_state\n",
    "    \n",
    "    # Initialize a dictionary to keep track of the number of times each state is visited\n",
    "    state_counts = {0: 0, 1: 0, 2: 0}\n",
    "    \n",
    "    # Count the initial state\n",
    "    state_counts[state] = 1\n",
    "\n",
    "    # Run the Markov Chain for n_steps\n",
    "    for _ in range(n_steps):\n",
    "        \n",
    "        # Choose the next state based on the transition probabilities from the current state\n",
    "        next_state = np.random.choice([0, 1, 2], p=P[state, :])\n",
    "        \n",
    "        # Update the state counts\n",
    "        state_counts[next_state] += 1\n",
    "        \n",
    "        # Update the current state\n",
    "        state = next_state\n",
    "\n",
    "    # Calculate the total number of steps (including the initial state)\n",
    "    total_counts = sum(state_counts.values())\n",
    "    \n",
    "    # Calculate the empirical probabilities\n",
    "    empirical_probs = {k: v / total_counts for k, v in state_counts.items()}\n",
    "    \n",
    "    return empirical_probs\n",
    "\n",
    "\n"
   ]
  },
  {
   "cell_type": "code",
   "execution_count": 7,
   "metadata": {},
   "outputs": [
    {
     "data": {
      "image/png": "[encoded data removed]",
      "text/plain": [
       "<Figure size 640x480 with 1 Axes>"
      ]
     },
     "metadata": {},
     "output_type": "display_data"
    },
    {
     "data": {
      "text/plain": [
       "({'A': 0.41125887411258877,\n",
       "  'B': 0.19018098190180982,\n",
       "  'C': 0.39856014398560147},\n",
       " {'A': 0.4, 'B': 0.2, 'C': 0.4})"
      ]
     },
     "execution_count": 7,
     "metadata": {},
     "output_type": "execute_result"
    }
   ],
   "source": [
    "\n",
    "# Initial state (let's start with state A)\n",
    "initial_state = 0\n",
    "\n",
    "# Number of steps in the Markov Chain\n",
    "n_steps = 10000\n",
    "\n",
    "# Simulate the Markov Chain\n",
    "empirical_probs = simulate_markov_chain(P_tilde, initial_state, n_steps)\n",
    "\n",
    "# Compare to the theoretical stationary distribution\n",
    "theoretical_probs = {'A': pi[0], 'B': pi[1], 'C': pi[2]}\n",
    "empirical_probs = {'A': empirical_probs[0], 'B': empirical_probs[1], 'C': empirical_probs[2]}\n",
    "\n",
    "# Plotting\n",
    "labels = ['A', 'B', 'C']\n",
    "theoretical_values = [theoretical_probs[label] for label in labels]\n",
    "empirical_values = [empirical_probs[label] for label in labels]\n",
    "\n",
    "x = np.arange(len(labels))\n",
    "width = 0.35\n",
    "\n",
    "fig, ax = plt.subplots()\n",
    "\n",
    "rects1 = ax.bar(x - width/2, theoretical_values, width, label='Theoretical')\n",
    "rects2 = ax.bar(x + width/2, empirical_values, width, label='Empirical')\n",
    "\n",
    "ax.set_ylabel('Probability')\n",
    "ax.set_title('Comparing theoretical and empirical stationary distributions')\n",
    "ax.set_xticks(x)\n",
    "ax.set_xticklabels(labels)\n",
    "ax.legend()\n",
    "\n",
    "plt.show()\n",
    "\n",
    "empirical_probs, theoretical_probs"
   ]
  }
 ],
 "metadata": {
  "kernelspec": {
   "display_name": "py38torch_arm",
   "language": "python",
   "name": "python3"
  },
  "language_info": {
   "codemirror_mode": {
    "name": "ipython",
    "version": 3
   },
   "file_extension": ".py",
   "mimetype": "text/x-python",
   "name": "python",
   "nbconvert_exporter": "python",
   "pygments_lexer": "ipython3",
   "version": "3.8.17"
  },
  "orig_nbformat": 4
 },
 "nbformat": 4,
 "nbformat_minor": 2
}
